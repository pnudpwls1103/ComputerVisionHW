{
 "cells": [
  {
   "cell_type": "code",
   "execution_count": 2,
   "metadata": {},
   "outputs": [],
   "source": [
    "from PIL import Image\n",
    "import numpy as np\n",
    "import math"
   ]
  },
  {
   "cell_type": "code",
   "execution_count": 3,
   "metadata": {},
   "outputs": [],
   "source": [
    "# Part 1: Gaussian Filtering\n",
    "# 1-1 : boxfilter\n",
    "def boxfilter(n):\n",
    "    assert n % 2 != 0, \"Dimension must be odd\"\n",
    "    return np.ones((n, n)) / (n*n)"
   ]
  },
  {
   "cell_type": "code",
   "execution_count": 4,
   "metadata": {},
   "outputs": [
    {
     "name": "stdout",
     "output_type": "stream",
     "text": [
      "[[0.11111111 0.11111111 0.11111111]\n",
      " [0.11111111 0.11111111 0.11111111]\n",
      " [0.11111111 0.11111111 0.11111111]]\n"
     ]
    }
   ],
   "source": [
    "print(boxfilter(3))"
   ]
  },
  {
   "cell_type": "code",
   "execution_count": 5,
   "metadata": {},
   "outputs": [
    {
     "ename": "AssertionError",
     "evalue": "Dimension must be odd",
     "output_type": "error",
     "traceback": [
      "\u001b[1;31m---------------------------------------------------------------------------\u001b[0m",
      "\u001b[1;31mAssertionError\u001b[0m                            Traceback (most recent call last)",
      "\u001b[1;32m~\\AppData\\Local\\Temp\\ipykernel_1872\\1822130950.py\u001b[0m in \u001b[0;36m<module>\u001b[1;34m\u001b[0m\n\u001b[1;32m----> 1\u001b[1;33m \u001b[0mprint\u001b[0m\u001b[1;33m(\u001b[0m\u001b[0mboxfilter\u001b[0m\u001b[1;33m(\u001b[0m\u001b[1;36m4\u001b[0m\u001b[1;33m)\u001b[0m\u001b[1;33m)\u001b[0m\u001b[1;33m\u001b[0m\u001b[1;33m\u001b[0m\u001b[0m\n\u001b[0m",
      "\u001b[1;32m~\\AppData\\Local\\Temp\\ipykernel_1872\\3628367019.py\u001b[0m in \u001b[0;36mboxfilter\u001b[1;34m(n)\u001b[0m\n\u001b[0;32m      2\u001b[0m \u001b[1;31m# 1-1 : boxfilter\u001b[0m\u001b[1;33m\u001b[0m\u001b[1;33m\u001b[0m\u001b[0m\n\u001b[0;32m      3\u001b[0m \u001b[1;32mdef\u001b[0m \u001b[0mboxfilter\u001b[0m\u001b[1;33m(\u001b[0m\u001b[0mn\u001b[0m\u001b[1;33m)\u001b[0m\u001b[1;33m:\u001b[0m\u001b[1;33m\u001b[0m\u001b[1;33m\u001b[0m\u001b[0m\n\u001b[1;32m----> 4\u001b[1;33m     \u001b[1;32massert\u001b[0m \u001b[0mn\u001b[0m \u001b[1;33m%\u001b[0m \u001b[1;36m2\u001b[0m \u001b[1;33m!=\u001b[0m \u001b[1;36m0\u001b[0m\u001b[1;33m,\u001b[0m \u001b[1;34m\"Dimension must be odd\"\u001b[0m\u001b[1;33m\u001b[0m\u001b[1;33m\u001b[0m\u001b[0m\n\u001b[0m\u001b[0;32m      5\u001b[0m     \u001b[1;32mreturn\u001b[0m \u001b[0mnp\u001b[0m\u001b[1;33m.\u001b[0m\u001b[0mones\u001b[0m\u001b[1;33m(\u001b[0m\u001b[1;33m(\u001b[0m\u001b[0mn\u001b[0m\u001b[1;33m,\u001b[0m \u001b[0mn\u001b[0m\u001b[1;33m)\u001b[0m\u001b[1;33m)\u001b[0m \u001b[1;33m/\u001b[0m \u001b[1;33m(\u001b[0m\u001b[0mn\u001b[0m\u001b[1;33m*\u001b[0m\u001b[0mn\u001b[0m\u001b[1;33m)\u001b[0m\u001b[1;33m\u001b[0m\u001b[1;33m\u001b[0m\u001b[0m\n",
      "\u001b[1;31mAssertionError\u001b[0m: Dimension must be odd"
     ]
    }
   ],
   "source": [
    "print(boxfilter(4))"
   ]
  },
  {
   "cell_type": "code",
   "execution_count": 6,
   "metadata": {},
   "outputs": [
    {
     "name": "stdout",
     "output_type": "stream",
     "text": [
      "[[0.02040816 0.02040816 0.02040816 0.02040816 0.02040816 0.02040816\n",
      "  0.02040816]\n",
      " [0.02040816 0.02040816 0.02040816 0.02040816 0.02040816 0.02040816\n",
      "  0.02040816]\n",
      " [0.02040816 0.02040816 0.02040816 0.02040816 0.02040816 0.02040816\n",
      "  0.02040816]\n",
      " [0.02040816 0.02040816 0.02040816 0.02040816 0.02040816 0.02040816\n",
      "  0.02040816]\n",
      " [0.02040816 0.02040816 0.02040816 0.02040816 0.02040816 0.02040816\n",
      "  0.02040816]\n",
      " [0.02040816 0.02040816 0.02040816 0.02040816 0.02040816 0.02040816\n",
      "  0.02040816]\n",
      " [0.02040816 0.02040816 0.02040816 0.02040816 0.02040816 0.02040816\n",
      "  0.02040816]]\n"
     ]
    }
   ],
   "source": [
    "print(boxfilter(7))"
   ]
  },
  {
   "cell_type": "code",
   "execution_count": 68,
   "metadata": {},
   "outputs": [],
   "source": [
    "# 1-2\n",
    "def gauss1d(sigma):\n",
    "    # gaussian 함수\n",
    "    def gaussian(sigma, x):\n",
    "        return 1 / np.sqrt(2*np.pi*sigma**2) * np.exp(-(x**2)/(2*sigma**2))\n",
    "    # sigma의 6배 후 홀수로 만들기\n",
    "    length = np.round(6*sigma)\n",
    "    length = length if length % 2 else length + 1\n",
    "    \n",
    "    arr = np.array(range(int(-length/2), int(length/2)+1))\n",
    "    result = [gaussian(sigma, x) for x in arr]\n",
    "    # 정규화\n",
    "    result = result / sum(result)\n",
    "    return result"
   ]
  },
  {
   "cell_type": "code",
   "execution_count": 61,
   "metadata": {},
   "outputs": [
    {
     "name": "stdout",
     "output_type": "stream",
     "text": [
      "[0.00383626 0.99232748 0.00383626]\n"
     ]
    }
   ],
   "source": [
    "print(gauss1d(0.3))"
   ]
  },
  {
   "cell_type": "code",
   "execution_count": 62,
   "metadata": {},
   "outputs": [
    {
     "name": "stdout",
     "output_type": "stream",
     "text": [
      "[0.10650698 0.78698604 0.10650698]\n"
     ]
    }
   ],
   "source": [
    "print(gauss1d(0.5))"
   ]
  },
  {
   "cell_type": "code",
   "execution_count": 63,
   "metadata": {},
   "outputs": [
    {
     "name": "stdout",
     "output_type": "stream",
     "text": [
      "[0.00443305 0.05400558 0.24203623 0.39905028 0.24203623 0.05400558\n",
      " 0.00443305]\n"
     ]
    }
   ],
   "source": [
    "print(gauss1d(1))"
   ]
  },
  {
   "cell_type": "code",
   "execution_count": 64,
   "metadata": {},
   "outputs": [
    {
     "name": "stdout",
     "output_type": "stream",
     "text": [
      "[0.0022182  0.00877313 0.02702316 0.06482519 0.12110939 0.17621312\n",
      " 0.19967563 0.17621312 0.12110939 0.06482519 0.02702316 0.00877313\n",
      " 0.0022182 ]\n"
     ]
    }
   ],
   "source": [
    "print(gauss1d(2))"
   ]
  },
  {
   "cell_type": "code",
   "execution_count": 65,
   "metadata": {},
   "outputs": [],
   "source": [
    "# 1-3\n",
    "def gauss2d(sigma):\n",
    "    arr1d = gauss1d(sigma)\n",
    "    # 1d gaussian filter의 transpose\n",
    "    arr1dT = np.transpose(arr1d)\n",
    "    # gaussian filter와 transpose의 외적\n",
    "    result = np.outer(arr1d, arr1dT)\n",
    "    # 정규화\n",
    "    result = result / sum(result.flatten())\n",
    "    return result"
   ]
  },
  {
   "cell_type": "code",
   "execution_count": 66,
   "metadata": {},
   "outputs": [
    {
     "name": "stdout",
     "output_type": "stream",
     "text": [
      "[[0.01134374 0.08381951 0.01134374]\n",
      " [0.08381951 0.61934703 0.08381951]\n",
      " [0.01134374 0.08381951 0.01134374]]\n"
     ]
    }
   ],
   "source": [
    "print(gauss2d(0.5))"
   ]
  },
  {
   "cell_type": "code",
   "execution_count": 67,
   "metadata": {},
   "outputs": [
    {
     "name": "stdout",
     "output_type": "stream",
     "text": [
      "[[1.96519161e-05 2.39409349e-04 1.07295826e-03 1.76900911e-03\n",
      "  1.07295826e-03 2.39409349e-04 1.96519161e-05]\n",
      " [2.39409349e-04 2.91660295e-03 1.30713076e-02 2.15509428e-02\n",
      "  1.30713076e-02 2.91660295e-03 2.39409349e-04]\n",
      " [1.07295826e-03 1.30713076e-02 5.85815363e-02 9.65846250e-02\n",
      "  5.85815363e-02 1.30713076e-02 1.07295826e-03]\n",
      " [1.76900911e-03 2.15509428e-02 9.65846250e-02 1.59241126e-01\n",
      "  9.65846250e-02 2.15509428e-02 1.76900911e-03]\n",
      " [1.07295826e-03 1.30713076e-02 5.85815363e-02 9.65846250e-02\n",
      "  5.85815363e-02 1.30713076e-02 1.07295826e-03]\n",
      " [2.39409349e-04 2.91660295e-03 1.30713076e-02 2.15509428e-02\n",
      "  1.30713076e-02 2.91660295e-03 2.39409349e-04]\n",
      " [1.96519161e-05 2.39409349e-04 1.07295826e-03 1.76900911e-03\n",
      "  1.07295826e-03 2.39409349e-04 1.96519161e-05]]\n"
     ]
    }
   ],
   "source": [
    "print(gauss2d(1))"
   ]
  },
  {
   "cell_type": "code",
   "execution_count": 9,
   "metadata": {},
   "outputs": [],
   "source": [
    "# 1-4-a\n",
    "def convolve2d(array, filter):\n",
    "    # np.float32로 type 변환\n",
    "    array_copy = array.astype(np.float32).copy()\n",
    "    filter = filter.astype(np.float32)\n",
    "\n",
    "    # image zero padding\n",
    "    pad_len = int((len(filter[0])-1)/2)\n",
    "    array_copy = np.pad(array_copy, (pad_len, pad_len), constant_values=0)\n",
    "\n",
    "    # Convolution\n",
    "    # 1. kernel 뒤집기\n",
    "    filter_len = len(filter)\n",
    "    filter = filter.flatten()[::-1]\n",
    "    filter = filter.reshape(filter_len, -1)\n",
    "\n",
    "    # 2. Cross Correlation\n",
    "    result_width, result_height = len(array[0]), len(array)\n",
    "    result = np.zeros((result_height, result_width))\n",
    "    for i in range(result_height):\n",
    "        for j in range(result_width):\n",
    "            image_crop = array_copy[i:i+filter_len, j:j+filter_len]\n",
    "            result[i, j] = np.sum(image_crop * filter)\n",
    "\n",
    "    return result"
   ]
  },
  {
   "cell_type": "code",
   "execution_count": 10,
   "metadata": {},
   "outputs": [],
   "source": [
    "# 1-4-b\n",
    "def gaussconvolve2d(array, sigma):   \n",
    "    filter = gauss2d(sigma)\n",
    "    return convolve2d(array, filter)"
   ]
  },
  {
   "cell_type": "code",
   "execution_count": 70,
   "metadata": {},
   "outputs": [],
   "source": [
    "# 1-4-c\n",
    "image1 = Image.open('./hw2_image/2b_dog.bmp')\n",
    "\n",
    "# convert to greyscale\n",
    "image1 = image1.convert('L')\n",
    "image_arr = np.asarray(image1)\n",
    "result_c = gaussconvolve2d(image_arr, 3).astype('uint8')\n",
    "image_c = Image.fromarray(result_c)\n",
    "\n",
    "image1.show()\n",
    "image_c.show()"
   ]
  },
  {
   "cell_type": "code",
   "execution_count": 77,
   "metadata": {},
   "outputs": [],
   "source": [
    "# 2-1\n",
    "image2 = Image.open('./hw2_image/3b_tower.bmp')\n",
    "# 이미지의 r, g, b 채널 분리\n",
    "r, g, b = image2.split()\n",
    "\n",
    "arr_r, arr_g, arr_b = np.asarray(r), np.asarray(g), np.asarray(b)\n",
    "# 가우시안 블러링 \n",
    "image2_result_r = gaussconvolve2d(arr_r, 1.5)\n",
    "image2_result_g = gaussconvolve2d(arr_g, 1.5)\n",
    "image2_result_b = gaussconvolve2d(arr_b, 1.5)\n",
    "\n",
    "# uint8로 타입 변환 후 Image 객체로 변환\n",
    "image2_result_r, image2_result_g, image2_result_b = image2_result_r.astype('uint8'), image2_result_g.astype('uint8'), image2_result_b.astype('uint8')\n",
    "new_r, new_g, new_b = Image.fromarray(image2_result_r), Image.fromarray(image2_result_g), Image.fromarray(image2_result_b)\n",
    "new_image2 = Image.merge('RGB', (new_r, new_g, new_b))\n",
    "new_image2.show()"
   ]
  },
  {
   "cell_type": "code",
   "execution_count": 75,
   "metadata": {},
   "outputs": [],
   "source": [
    "# 2-2\n",
    "image3 = Image.open('./hw2_image/3a_eiffel.bmp')\n",
    "# 이미지의 r, g, b 채널 분리\n",
    "r, g, b = image3.split()\n",
    "\n",
    "arr_r, arr_g, arr_b = np.asarray(r), np.asarray(g), np.asarray(b)\n",
    "# 가우시안 블러링 \n",
    "blur_r = gaussconvolve2d(arr_r, 1.5)\n",
    "blur_g = gaussconvolve2d(arr_g, 1.5)\n",
    "blur_b = gaussconvolve2d(arr_b, 1.5)\n",
    "\n",
    "# 원본 이미지 - 블러링 이미지\n",
    "image3_result_r = arr_r - blur_r\n",
    "image3_result_g = arr_g - blur_g\n",
    "image3_result_b = arr_b - blur_b\n",
    "\n",
    "# 음수 값 보정\n",
    "modi_result_r = image3_result_r + 128\n",
    "modi_result_g = image3_result_g + 128\n",
    "modi_result_b = image3_result_b + 128\n",
    "\n",
    "# 255 초과인 값 보정\n",
    "modi_result_r[np.where(modi_result_r > 255)] = 255\n",
    "modi_result_g[np.where(modi_result_g > 255)] = 255\n",
    "modi_result_b[np.where(modi_result_b > 255)] = 255\n",
    "\n",
    "# uint8로 타입 변환 후 Image 객체로 변환\n",
    "modi_result_r, modi_result_g, modi_result_b = modi_result_r.astype('uint8'), modi_result_g.astype('uint8'), modi_result_b.astype('uint8')\n",
    "new_r, new_g, new_b = Image.fromarray(modi_result_r), Image.fromarray(modi_result_g), Image.fromarray(modi_result_b)\n",
    "new_image2 = Image.merge('RGB', (new_r, new_g, new_b))\n",
    "new_image2.show()"
   ]
  },
  {
   "cell_type": "code",
   "execution_count": 76,
   "metadata": {},
   "outputs": [],
   "source": [
    "# 2-3\n",
    "# image2의 블러링 이미지 + image3의 high frequency 이미지\n",
    "hybrid_r = image2_result_r + image3_result_r\n",
    "hybrid_g = image2_result_g + image3_result_g\n",
    "hybrid_b = image2_result_b + image3_result_b\n",
    "\n",
    "# 음수 값과 255 초과인 값 보정\n",
    "hybrid_r[np.where(hybrid_r < 0)] = 0\n",
    "hybrid_r[np.where(hybrid_r > 255)] = 255\n",
    "hybrid_g[np.where(hybrid_g < 0)] = 0\n",
    "hybrid_g[np.where(hybrid_g > 255)] = 255\n",
    "hybrid_b[np.where(hybrid_b < 0)] = 0\n",
    "hybrid_b[np.where(hybrid_b > 255)] = 255\n",
    "\n",
    "# uint로 타입 변환 후 Image 객체로 변환\n",
    "hybrid_r, hybrid_g, hybrid_b = hybrid_r.astype('uint8'), hybrid_g.astype('uint8'), hybrid_b.astype('uint8')\n",
    "new_r, new_g, new_b = Image.fromarray(hybrid_r), Image.fromarray(hybrid_g), Image.fromarray(hybrid_b)\n",
    "new_image3 = Image.merge('RGB', (new_r, new_g, new_b))\n",
    "new_image3.show()"
   ]
  }
 ],
 "metadata": {
  "kernelspec": {
   "display_name": "base",
   "language": "python",
   "name": "python3"
  },
  "language_info": {
   "codemirror_mode": {
    "name": "ipython",
    "version": 3
   },
   "file_extension": ".py",
   "mimetype": "text/x-python",
   "name": "python",
   "nbconvert_exporter": "python",
   "pygments_lexer": "ipython3",
   "version": "3.9.13"
  },
  "orig_nbformat": 4
 },
 "nbformat": 4,
 "nbformat_minor": 2
}
